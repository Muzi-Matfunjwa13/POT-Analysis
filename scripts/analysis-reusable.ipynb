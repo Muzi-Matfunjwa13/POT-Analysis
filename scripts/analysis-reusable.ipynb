{
 "cells": [
  {
   "cell_type": "markdown",
   "id": "7ac7b9c4",
   "metadata": {},
   "source": [
    "# Calculating recall and precision\n",
    "\n",
    "## Workflow\n",
    "\n",
    "In this analysis we followed this workflow\n",
    "\n",
    "\n",
    "![workflow](../images/workflow.png)"
   ]
  },
  {
   "cell_type": "markdown",
   "id": "6988e197",
   "metadata": {},
   "source": [
    "# Instructions\n",
    "\n",
    "To run this code set up as folder structure as follows:\n",
    "- main_project_folder\n",
    "    - data\n",
    "        - data_file \n",
    "    - script\n",
    "        - jupyternotebook\n",
    "    \n",
    "       \n",
    "# Data format\n",
    "\n",
    "- csv format\n",
    "\n",
    "- three columns\n",
    "    - column 1 : words (optional)\n",
    "    - column 2 : predicted part of speech (column header/name = prediction)\n",
    "    - column 3 : true part of speech (column header/name = truth)\n",
    "    \n",
    "  \n"
   ]
  },
  {
   "cell_type": "code",
   "execution_count": 6,
   "id": "60212fb7",
   "metadata": {},
   "outputs": [],
   "source": [
    "# load panda's package\n",
    "import pandas as pd"
   ]
  },
  {
   "cell_type": "code",
   "execution_count": 7,
   "id": "b55bfab3",
   "metadata": {},
   "outputs": [],
   "source": [
    "# create an object from spreadsheet\n",
    "csv_data = pd.read_csv(\"../data/test.csv\")"
   ]
  },
  {
   "cell_type": "code",
   "execution_count": 8,
   "id": "078831d0",
   "metadata": {},
   "outputs": [
    {
     "name": "stdout",
     "output_type": "stream",
     "text": [
      "             pot prediction truth\n",
      "0        Kudliwa          V     V\n",
      "1        Umgodla          N     N\n",
      "2       Ovulweko        REL   REL\n",
      "3      USkhosana          N     N\n",
      "4    banoMasango       POSS   ADV\n",
      "..           ...        ...   ...\n",
      "220   akhululuma          V     V\n",
      "221    iinkulumo          N     N\n",
      "222      zomuntu       POSS  POSS\n",
      "223        osele        REL   REL\n",
      "224       asutha        REL   REL\n",
      "\n",
      "[225 rows x 3 columns]\n"
     ]
    }
   ],
   "source": [
    "# inspect data\n",
    "print(csv_data)"
   ]
  },
  {
   "cell_type": "code",
   "execution_count": 9,
   "id": "93183d12",
   "metadata": {},
   "outputs": [],
   "source": [
    "# find all part of speech tags in dataset\n",
    "all_pot = pd.concat([csv_data['truth'],csv_data['prediction']])\n",
    "unique_pot = all_pot.unique()"
   ]
  },
  {
   "cell_type": "markdown",
   "id": "54390a82",
   "metadata": {},
   "source": [
    "# calculate recall"
   ]
  },
  {
   "cell_type": "code",
   "execution_count": 10,
   "id": "0a369cb7",
   "metadata": {},
   "outputs": [],
   "source": [
    "# function for calculating recall\n",
    "def calculate_recall (truth_tag, prediction_tag, pos_tag):\n",
    "    \"\"\"\n",
    "    Calculate the recall for a specific part of speech tag.\n",
    "    Parameters:\n",
    "    truth_tag (list): The ground truth POS tags.\n",
    "    prediction_tag (list): The predicted POS tags by the tagger.\n",
    "    pos_tag (str): The part of speech tag to calculate recall for.\n",
    "\n",
    "    Returns:\n",
    "    float: The recall value for the specified POS tag.\n",
    "    \"\"\"\n",
    "    \n",
    "    tp = sum(1 for truth, pred in zip(truth_tag, prediction_tag) if truth == pos_tag and pred == pos_tag)\n",
    "    fn = sum(1 for truth, pred in zip(truth_tag, prediction_tag) if truth == pos_tag and pred != pos_tag)\n",
    "    \n",
    "    if tp + fn == 0:\n",
    "        return 0.0 \n",
    "    \n",
    "    recall = tp/(tp + fn)\n",
    "    return recall"
   ]
  },
  {
   "cell_type": "code",
   "execution_count": 11,
   "id": "8b52e5df",
   "metadata": {},
   "outputs": [
    {
     "name": "stdout",
     "output_type": "stream",
     "text": [
      "V:  0.5\n",
      "N:  0.8444444444444444\n",
      "REL:  0.7142857142857143\n",
      "ADV:  0.6111111111111112\n",
      "POSS:  0.9\n",
      "CDEM:  1.0\n",
      "ADJ:  0.5\n",
      "PRO:  1.0\n",
      "COP:  0.6666666666666666\n",
      "CONJ:  0.375\n",
      "PREP:  0.0\n",
      "INT:  0.0\n",
      "IDEO:  0.0\n"
     ]
    }
   ],
   "source": [
    "# calculate recall for each part of speech tag\n",
    "for pot in unique_pot:\n",
    "    recall = calculate_recall(truth_tag=csv_data['truth'], prediction_tag=csv_data['prediction'], pos_tag= pot)\n",
    "    print (f'{pot}: ', recall)"
   ]
  },
  {
   "cell_type": "markdown",
   "id": "51842bb8",
   "metadata": {},
   "source": [
    "# Calculating precision"
   ]
  },
  {
   "cell_type": "code",
   "execution_count": 12,
   "id": "c4b65592",
   "metadata": {},
   "outputs": [],
   "source": [
    "# function for calculating precision\n",
    "def calculate_precision (truth_tag, prediction_tag, pos_tag):\n",
    "    \"\"\"\n",
    "    Calculate the precision for a specific part of speech tag.\n",
    "    Parameters:\n",
    "    truth_tag (list): The ground truth POS tags.\n",
    "    prediction_tag (list): The predicted POS tags by the tagger.\n",
    "    pos_tag (str): The part of speech tag to calculate recall for.\n",
    "\n",
    "    Returns:\n",
    "    float: The precision value for the specified POS tag.\n",
    "    \"\"\"\n",
    "    \n",
    "    tp = sum(1 for truth, pred in zip(truth_tag, prediction_tag) if truth == pos_tag and pred == pos_tag)\n",
    "    fp = sum(1 for truth, pred in zip(truth_tag, prediction_tag) if truth != pos_tag and pred == pos_tag)\n",
    "    \n",
    "    if tp + fp == 0:\n",
    "        return 0.0 \n",
    "    \n",
    "    precision = tp/(tp + fp)\n",
    "    return precision"
   ]
  },
  {
   "cell_type": "code",
   "execution_count": 13,
   "id": "6b445ccf",
   "metadata": {},
   "outputs": [
    {
     "name": "stdout",
     "output_type": "stream",
     "text": [
      "V:  0.75\n",
      "N:  0.5277777777777778\n",
      "REL:  0.625\n",
      "ADV:  0.8461538461538461\n",
      "POSS:  0.5142857142857142\n",
      "CDEM:  0.8333333333333334\n",
      "ADJ:  0.6666666666666666\n",
      "PRO:  1.0\n",
      "COP:  1.0\n",
      "CONJ:  1.0\n",
      "PREP:  0.0\n",
      "INT:  0.0\n",
      "IDEO:  0.0\n"
     ]
    }
   ],
   "source": [
    "# calculate precision for each part of speech tag\n",
    "for pot in unique_pot:\n",
    "    precision = calculate_precision(truth_tag=csv_data['truth'], prediction_tag=csv_data['prediction'], pos_tag= pot)\n",
    "    print (f'{pot}: ', precision)"
   ]
  },
  {
   "cell_type": "code",
   "execution_count": 24,
   "id": "d8d686ee",
   "metadata": {},
   "outputs": [
    {
     "name": "stdout",
     "output_type": "stream",
     "text": [
      "Weighted Precision: 0.7103\n",
      "Weighted Recall: 0.6711\n"
     ]
    }
   ],
   "source": [
    "# Get the unique POS tags (classes) from truth\n",
    "classes = sorted(set(truth))\n",
    "\n",
    "truth = csv_data['truth']\n",
    "prediction = csv_data['prediction']\n",
    "\n",
    "# Initialize variables for weighted precision calculation\n",
    "weighted_precision = 0\n",
    "weighted_recall = 0\n",
    "total_instances = len(truth)\n",
    "# Loop through each POS tag (class) to calculate precision\n",
    "for pot in classes:\n",
    "    # Calculate True Positives (TP) for this class\n",
    "    tp = sum(1 for i in range(total_instances) if truth[i] == pot and prediction[i] == pot)\n",
    "    \n",
    "    \n",
    "    # Calculate False Positives (FP) for this class\n",
    "    fp = sum(1 for i in range(total_instances) if truth[i] != pot and prediction[i] == pot)\n",
    "    \n",
    "    # Calculate False Negatives (FN) for this class\n",
    "    fn = sum(1 for i in range(total_instances) if truth[i] == pot and prediction[i] != pot)\n",
    "   \n",
    "    # Calculate recall for this class (handling divide by zero)\n",
    "    recall = tp / (tp + fn) if (tp + fn) > 0 else 0\n",
    "    \n",
    "    # Calculate the support (number of true instances for this class)\n",
    "    support = sum(1 for i in range(total_instances) if truth[i] == pot)\n",
    "    \n",
    "    \n",
    "    # Weight the recall by the support (proportion of total instances)\n",
    "    weighted_recall += recall * (support / total_instances)\n",
    "    \n",
    "\n",
    "    # Calculate precision for this class (handling divide by zero)\n",
    "    precision = tp / (tp + fp) if (tp + fp) > 0 else 0\n",
    "    \n",
    "    \n",
    "    \n",
    "    # Weight the precision by the support (proportion of total instances)\n",
    "    weighted_precision += precision * (support / total_instances)\n",
    "# Output the weighted precision\n",
    "print(f\"Weighted Precision: {weighted_precision:.4f}\")\n",
    "\n",
    "# Output the weighted recall\n",
    "print(f\"Weighted Recall: {weighted_recall:.4f}\")"
   ]
  },
  {
   "cell_type": "code",
   "execution_count": null,
   "id": "126043aa",
   "metadata": {},
   "outputs": [],
   "source": []
  }
 ],
 "metadata": {
  "kernelspec": {
   "display_name": "Python 3 (ipykernel)",
   "language": "python",
   "name": "python3"
  },
  "language_info": {
   "codemirror_mode": {
    "name": "ipython",
    "version": 3
   },
   "file_extension": ".py",
   "mimetype": "text/x-python",
   "name": "python",
   "nbconvert_exporter": "python",
   "pygments_lexer": "ipython3",
   "version": "3.11.5"
  }
 },
 "nbformat": 4,
 "nbformat_minor": 5
}
